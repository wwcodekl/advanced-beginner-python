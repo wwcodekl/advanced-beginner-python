{
 "cells": [
  {
   "cell_type": "markdown",
   "metadata": {
    "collapsed": true
   },
   "source": [
    "# Interfaces\n",
    "What comes to mind when you hear the word **interface** ? Can we think of some examples (especially in our daily lives)?  \n",
    "\n",
    "Interestingly in Python, a lot of built-in operators / operands are also interfaces ...\n",
    "\n",
    "Testing! We've learn to read test cases in our assignments. Have we noticed how they are written?\n",
    "\n",
    "The idea of interface is really simple - it is the **description of how an object behaves**. Do you see the benefit of interface? You'll see a lot of this in your assignments.\n",
    "\n",
    "**Warning**: This is for intermediate level (Do this when we have time)   \n",
    "For those of us who has knowledge in other programming language (i.e. Java, TypeScript, C#), you probably have experience with coding interface. How do you do it?\n",
    "\n",
    "```java\n",
    "interface IEngine {\n",
    "    void turnOn();\n",
    "}\n",
    "public class EngineV1 implements IEngine {\n",
    "    public void turnOn() {\n",
    "        // do something here\n",
    "    }\n",
    "}\n",
    "public class Car {\n",
    "    public Car(IEngine engine) {\n",
    "       this.engine = engine;\n",
    "    }\n",
    "    public void run() {\n",
    "        this.engine.turnOn();\n",
    "    }\n",
    "}\n",
    "```\n",
    "\n",
    "However, **things are IMPLICIT in Python**.\n",
    "\n",
    "```python\n",
    "class Car:\n",
    "   def __init__(self, engine):\n",
    "      self.engine = engine\n",
    "   def run():\n",
    "       self.engine.turn_on()\n",
    "```\n",
    "\n",
    "For more reading on interface in Python, you can check out 1. protocol/duck-typing 2. Abstract Base Class (ABC) 3. python-interface\n",
    "\n",
    "Ref:-   \n",
    "http://masnun.rocks/2017/04/15/interfaces-in-python-protocols-and-abcs/  \n",
    "https://pypi.org/project/python-interface/#description (new package in Aug 2016)"
   ]
  },
  {
   "cell_type": "markdown",
   "metadata": {},
   "source": [
    "# Exceptions\n",
    "\n",
    "What is an Exception? You have probably seen a traceback in Python ...  \n",
    "Why do we need Exception? When do we need it the most? An example?   \n",
    "\n",
    "Code examples here:- https://docs.python.org/3/tutorial/errors.html  \n",
    "1. try ... except  \n",
    "2. try ... except ... else\n",
    "3. try ... except ... else ... finally\n",
    "\n",
    "![python exception tree](https://o7planning.org/en/11421/cache/images/i/7601427.png)\n",
    "\n",
    "IMPORTANT: Exception does not always mean error in Python, unlike other programming languages.  \n",
    "https://speakerdeck.com/pycon2016/alex-martelli-exception-and-error-handling-in-python-2-and-python-3\n",
    "\n",
    "Can you force Python to throw an exception? Hint: **raise**  \n",
    "If yes, in which circumstance you should force an exception? Can you give an example? \n",
    "\n",
    "Python also has pre-defined actions for you... Refer code below, what do you think will happen? Why? \n",
    "\n",
    "```python\n",
    "number = 3\n",
    "for item in number:\n",
    "   print item\n",
    "```\n",
    "Fyi, this is done magically inside the magic methods (intermediate level stuff)  \n",
    "\n",
    "Wait, you can also create your own exception!  \n",
    "https://julien.danjou.info/python-exceptions-guide/  \n",
    "\n",
    "### Strategy\n",
    "**Warning:** This can be a little theoritical  \n",
    "1. Look Before You Leap (LBYL)  \n",
    "2. Easier to Ask for Forgiveness than Permission (EAFP)  \n",
    "\n",
    "Ref:   \n",
    "http://www.pythonforbeginners.com/error-handling/exception-handling-in-python  \n",
    "https://docs.python.org/3/library/traceback.html  \n",
    " "
   ]
  },
  {
   "cell_type": "markdown",
   "metadata": {
    "collapsed": true
   },
   "source": [
    "## Nerds Section - PyCon Videos\n",
    "Exceptions - reliability, readability\n",
    "\n",
    "[Error Handling in the Real World, Miguel Grinberg](https://www.youtube.com/watch?v=8kTlzR4HhWo)   \n",
    "[Passing Exceptions 101 Paradigms in Error Handling, Amadine Lee](https://www.youtube.com/watch?v=BMtJbrvwlmo)   \n",
    "[Exception and error handling in Python 2 and Python 3, Alex Martelli](https://www.youtube.com/watch?v=frZrBgWHJdY)    \n"
   ]
  },
  {
   "cell_type": "markdown",
   "metadata": {},
   "source": [
    "# Modules and Packages\n",
    "\n",
    "This is rather HUGE topic but we'll focus just on a few introductory things ...   \n",
    "**Goal**: Gain a better idea of how everything works and holds together  \n",
    "\n",
    "## Modules\n",
    "\n",
    "We'll learn:-  \n",
    "1. Basics of Module\n",
    "2. Idea of Namespaces\n",
    "3. How to load a module \n",
    "4. How import actually works (i.e. sys path) \n",
    "\n",
    "Let's go!  \n",
    "http://dabeaz.com/modulepackage/ModulePackage.pdf \n",
    "\n",
    "## Packages\n",
    "\n",
    "What do you think a package is? Where does all these packages come from? **Hint**: PyPI - https://pypi.org/  \n",
    "\n",
    "In a nutshell, packages is like your folder structure / directory.  \n",
    "\n",
    "Live Demo on usage of packages - relative vs implicit import ! \n",
    "\n",
    "Sidetrack: If you have done **pip install some_package_name**, have you wondered what is ***pip*** ?\n",
    "\n",
    "**Recommended Watch** - [Modules and Packages: Live and Let Die!, David Beazley](https://www.youtube.com/watch?v=0oTh1CXRaQ0) "
   ]
  },
  {
   "cell_type": "code",
   "execution_count": null,
   "metadata": {
    "collapsed": true
   },
   "outputs": [],
   "source": []
  }
 ],
 "metadata": {
  "kernelspec": {
   "display_name": "Python 3",
   "language": "python",
   "name": "python3"
  },
  "language_info": {
   "codemirror_mode": {
    "name": "ipython",
    "version": 3
   },
   "file_extension": ".py",
   "mimetype": "text/x-python",
   "name": "python",
   "nbconvert_exporter": "python",
   "pygments_lexer": "ipython3",
   "version": "3.6.1"
  }
 },
 "nbformat": 4,
 "nbformat_minor": 2
}
